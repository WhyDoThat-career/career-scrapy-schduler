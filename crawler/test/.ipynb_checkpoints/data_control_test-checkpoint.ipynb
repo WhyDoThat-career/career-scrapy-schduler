{
 "cells": [
  {
   "cell_type": "code",
   "execution_count": 1,
   "metadata": {},
   "outputs": [],
   "source": [
    "data = '\\n      피플펀드컴퍼니\\n        '"
   ]
  },
  {
   "cell_type": "code",
   "execution_count": 6,
   "metadata": {},
   "outputs": [
    {
     "data": {
      "text/plain": [
       "'피플펀드컴퍼니'"
      ]
     },
     "execution_count": 6,
     "metadata": {},
     "output_type": "execute_result"
    }
   ],
   "source": [
    "data.replace(' ','')"
   ]
  },
  {
   "cell_type": "code",
   "execution_count": 3,
   "metadata": {},
   "outputs": [
    {
     "data": {
      "text/plain": [
       "'      피플펀드컴퍼니        '"
      ]
     },
     "execution_count": 3,
     "metadata": {},
     "output_type": "execute_result"
    }
   ],
   "source": [
    "data.replace('\\n','')"
   ]
  },
  {
   "cell_type": "code",
   "execution_count": 4,
   "metadata": {},
   "outputs": [],
   "source": [
    "data = '피플펀드컴퍼니'"
   ]
  },
  {
   "cell_type": "code",
   "execution_count": 13,
   "metadata": {},
   "outputs": [
    {
     "data": {
      "text/plain": [
       "['background-image: url(\"https://static.wanted.co.kr/images/company/1244/vkhrfhzg3uawmkur__1080_790.jpg\"); padding-bottom: 23.3333%; width: 33.3333%;',\n",
       " 'background-image: url(\"https://static.wanted.co.kr/images/company/1244/op69bnmkrryneeeu__1080_790.jpg\"); padding-bottom: 23.3333%; width: 33.3333%;',\n",
       " 'background-image: url(\"https://static.wanted.co.kr/images/company/1244/13278_2_1.45dc36ff__1080_790.jpg\"); padding-bottom: 23.3333%; width: 33.3333%;']"
      ]
     },
     "execution_count": 13,
     "metadata": {},
     "output_type": "execute_result"
    }
   ],
   "source": [
    "['background-image: '\n",
    "'url(\"https://static.wanted.co.kr/images/company/1244/vkhrfhzg3uawmkur__1080_790.jpg\"); '\n",
    "'padding-bottom: 23.3333%; width: 33.3333%;',\n",
    "'background-image: '\n",
    "'url(\"https://static.wanted.co.kr/images/company/1244/op69bnmkrryneeeu__1080_790.jpg\"); '\n",
    "'padding-bottom: 23.3333%; width: 33.3333%;',\n",
    "'background-image: '\n",
    "'url(\"https://static.wanted.co.kr/images/company/1244/13278_2_1.45dc36ff__1080_790.jpg\"); '\n",
    "'padding-bottom: 23.3333%; width: 33.3333%;']"
   ]
  },
  {
   "cell_type": "code",
   "execution_count": 3,
   "metadata": {},
   "outputs": [
    {
     "ename": "TypeError",
     "evalue": "an integer is required (got type str)",
     "output_type": "error",
     "traceback": [
      "\u001b[0;31m---------------------------------------------------------------------------\u001b[0m",
      "\u001b[0;31mTypeError\u001b[0m                                 Traceback (most recent call last)",
      "\u001b[0;32m<ipython-input-3-e4efb57f1f18>\u001b[0m in \u001b[0;36m<module>\u001b[0;34m\u001b[0m\n\u001b[1;32m      5\u001b[0m \u001b[0;32mfor\u001b[0m \u001b[0mdata\u001b[0m \u001b[0;32min\u001b[0m \u001b[0mdatas\u001b[0m \u001b[0;34m:\u001b[0m\u001b[0;34m\u001b[0m\u001b[0;34m\u001b[0m\u001b[0m\n\u001b[1;32m      6\u001b[0m \u001b[0;31m#     try :\u001b[0m\u001b[0;34m\u001b[0m\u001b[0;34m\u001b[0m\u001b[0;34m\u001b[0m\u001b[0m\n\u001b[0;32m----> 7\u001b[0;31m         \u001b[0mprint\u001b[0m\u001b[0;34m(\u001b[0m\u001b[0mdate\u001b[0m\u001b[0;34m(\u001b[0m\u001b[0mdata\u001b[0m\u001b[0;34m)\u001b[0m\u001b[0;34m)\u001b[0m\u001b[0;34m\u001b[0m\u001b[0;34m\u001b[0m\u001b[0m\n\u001b[0m\u001b[1;32m      8\u001b[0m \u001b[0;31m#     except TypeError :\u001b[0m\u001b[0;34m\u001b[0m\u001b[0;34m\u001b[0m\u001b[0;34m\u001b[0m\u001b[0m\n\u001b[1;32m      9\u001b[0m \u001b[0;31m#         print('상시')\u001b[0m\u001b[0;34m\u001b[0m\u001b[0;34m\u001b[0m\u001b[0;34m\u001b[0m\u001b[0m\n",
      "\u001b[0;31mTypeError\u001b[0m: an integer is required (got type str)"
     ]
    }
   ],
   "source": [
    "from datetime import date\n",
    "\n",
    "datas = ['상시','2121.03.31','2121.3.1']\n",
    "\n",
    "for data in datas :\n",
    "#     try :\n",
    "        print(date())\n",
    "#     except TypeError :\n",
    "#         print('상시')\n"
   ]
  },
  {
   "cell_type": "code",
   "execution_count": null,
   "metadata": {},
   "outputs": [],
   "source": []
  }
 ],
 "metadata": {
  "kernelspec": {
   "display_name": "Python 3",
   "language": "python",
   "name": "python3"
  },
  "language_info": {
   "codemirror_mode": {
    "name": "ipython",
    "version": 3
   },
   "file_extension": ".py",
   "mimetype": "text/x-python",
   "name": "python",
   "nbconvert_exporter": "python",
   "pygments_lexer": "ipython3",
   "version": "3.8.5"
  }
 },
 "nbformat": 4,
 "nbformat_minor": 2
}
