{
 "cells": [
  {
   "cell_type": "code",
   "execution_count": 1,
   "metadata": {},
   "outputs": [],
   "source": [
    "data = '\\n      피플펀드컴퍼니\\n        '"
   ]
  },
  {
   "cell_type": "code",
   "execution_count": 6,
   "metadata": {},
   "outputs": [
    {
     "data": {
      "text/plain": [
       "'피플펀드컴퍼니'"
      ]
     },
     "execution_count": 6,
     "metadata": {},
     "output_type": "execute_result"
    }
   ],
   "source": [
    "data.replace(' ','')"
   ]
  },
  {
   "cell_type": "code",
   "execution_count": 3,
   "metadata": {},
   "outputs": [
    {
     "data": {
      "text/plain": [
       "'      피플펀드컴퍼니        '"
      ]
     },
     "execution_count": 3,
     "metadata": {},
     "output_type": "execute_result"
    }
   ],
   "source": [
    "data.replace('\\n','')"
   ]
  },
  {
   "cell_type": "code",
   "execution_count": 4,
   "metadata": {},
   "outputs": [],
   "source": [
    "data = '피플펀드컴퍼니'"
   ]
  },
  {
   "cell_type": "code",
   "execution_count": 13,
   "metadata": {},
   "outputs": [
    {
     "data": {
      "text/plain": [
       "['background-image: url(\"https://static.wanted.co.kr/images/company/1244/vkhrfhzg3uawmkur__1080_790.jpg\"); padding-bottom: 23.3333%; width: 33.3333%;',\n",
       " 'background-image: url(\"https://static.wanted.co.kr/images/company/1244/op69bnmkrryneeeu__1080_790.jpg\"); padding-bottom: 23.3333%; width: 33.3333%;',\n",
       " 'background-image: url(\"https://static.wanted.co.kr/images/company/1244/13278_2_1.45dc36ff__1080_790.jpg\"); padding-bottom: 23.3333%; width: 33.3333%;']"
      ]
     },
     "execution_count": 13,
     "metadata": {},
     "output_type": "execute_result"
    }
   ],
   "source": [
    "['background-image: '\n",
    "'url(\"https://static.wanted.co.kr/images/company/1244/vkhrfhzg3uawmkur__1080_790.jpg\"); '\n",
    "'padding-bottom: 23.3333%; width: 33.3333%;',\n",
    "'background-image: '\n",
    "'url(\"https://static.wanted.co.kr/images/company/1244/op69bnmkrryneeeu__1080_790.jpg\"); '\n",
    "'padding-bottom: 23.3333%; width: 33.3333%;',\n",
    "'background-image: '\n",
    "'url(\"https://static.wanted.co.kr/images/company/1244/13278_2_1.45dc36ff__1080_790.jpg\"); '\n",
    "'padding-bottom: 23.3333%; width: 33.3333%;']"
   ]
  },
  {
   "cell_type": "code",
   "execution_count": 25,
   "metadata": {},
   "outputs": [
    {
     "name": "stdout",
     "output_type": "stream",
     "text": [
      "None\n",
      "2121-03-31\n",
      "2121-03-01\n"
     ]
    }
   ],
   "source": [
    "from datetime import date,datetime\n",
    "\n",
    "datas = ['상시','2121.03.31','2121.3.1']\n",
    "\n",
    "for data in datas :\n",
    "        try :\n",
    "            print(datetime.strptime(data,\"%Y.%m.%d\").strftime('%Y-%m-%d'))\n",
    "        except :\n",
    "            print('None')\n"
   ]
  },
  {
   "cell_type": "code",
   "execution_count": null,
   "metadata": {},
   "outputs": [],
   "source": [
    "['직무', '고용 형태', '경력', '연봉', '회사 규모', '주요 서비스', '기간', '위치']\n",
    "['서버/백엔드, 프론트엔드, 웹 풀스택', '정규직', '경력 무관', '0 ~ 4200 만원', '21명', '\\n            ', '\\n        ', '2021-02-24 19:09 부터 2021-03-22 21:11 까지', '01849 서울 노원구 동일로174길 27']"
   ]
  }
 ],
 "metadata": {
  "kernelspec": {
   "display_name": "Python 3",
   "language": "python",
   "name": "python3"
  },
  "language_info": {
   "codemirror_mode": {
    "name": "ipython",
    "version": 3
   },
   "file_extension": ".py",
   "mimetype": "text/x-python",
   "name": "python",
   "nbconvert_exporter": "python",
   "pygments_lexer": "ipython3",
   "version": "3.8.5"
  }
 },
 "nbformat": 4,
 "nbformat_minor": 2
}
