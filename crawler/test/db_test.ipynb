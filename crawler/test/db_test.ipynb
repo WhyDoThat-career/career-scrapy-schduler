{
 "metadata": {
  "language_info": {
   "codemirror_mode": {
    "name": "ipython",
    "version": 3
   },
   "file_extension": ".py",
   "mimetype": "text/x-python",
   "name": "python",
   "nbconvert_exporter": "python",
   "pygments_lexer": "ipython3",
   "version": "3.6.9-final"
  },
  "orig_nbformat": 2,
  "kernelspec": {
   "name": "python36964bit844da87d3fbc4bdcbcc13070c748c407",
   "display_name": "Python 3.6.9 64-bit",
   "language": "python"
  }
 },
 "nbformat": 4,
 "nbformat_minor": 2,
 "cells": [
  {
   "cell_type": "code",
   "execution_count": 4,
   "metadata": {},
   "outputs": [],
   "source": [
    "import json\n",
    "\n",
    "with open('../../keys/localhost_sql_key.json') as key_file :\n",
    "    key = json.load(key_file)"
   ]
  },
  {
   "cell_type": "code",
   "execution_count": 3,
   "metadata": {},
   "outputs": [
    {
     "output_type": "stream",
     "name": "stdout",
     "text": [
      "/media/myrepo/WhyDoThat/crawler/test\n"
     ]
    }
   ],
   "source": [
    "!pwd"
   ]
  },
  {
   "cell_type": "code",
   "execution_count": 9,
   "metadata": {},
   "outputs": [
    {
     "output_type": "execute_result",
     "data": {
      "text/plain": [
       "{'name': 'mysql',\n",
       " 'host': 'localhost',\n",
       " 'user': 'keyog',\n",
       " 'password': 'keyog1234'}"
      ]
     },
     "metadata": {},
     "execution_count": 9
    }
   ],
   "source": [
    "key"
   ]
  },
  {
   "cell_type": "code",
   "execution_count": 21,
   "metadata": {},
   "outputs": [
    {
     "output_type": "error",
     "ename": "NameError",
     "evalue": "name 'load_key' is not defined",
     "traceback": [
      "\u001b[0;31m---------------------------------------------------------------------------\u001b[0m",
      "\u001b[0;31mNameError\u001b[0m                                 Traceback (most recent call last)",
      "\u001b[0;32m<ipython-input-21-daff678aad84>\u001b[0m in \u001b[0;36m<module>\u001b[0;34m\u001b[0m\n\u001b[1;32m      1\u001b[0m \u001b[0;32mimport\u001b[0m \u001b[0mpymysql\u001b[0m\u001b[0;34m\u001b[0m\u001b[0;34m\u001b[0m\u001b[0m\n\u001b[1;32m      2\u001b[0m \u001b[0;34m\u001b[0m\u001b[0m\n\u001b[0;32m----> 3\u001b[0;31m \u001b[0;32mclass\u001b[0m \u001b[0mMySQL\u001b[0m \u001b[0;34m:\u001b[0m\u001b[0;34m\u001b[0m\u001b[0;34m\u001b[0m\u001b[0m\n\u001b[0m\u001b[1;32m      4\u001b[0m     \u001b[0mKEY\u001b[0m \u001b[0;34m=\u001b[0m \u001b[0mload_key\u001b[0m\u001b[0;34m(\u001b[0m\u001b[0;34m)\u001b[0m\u001b[0;34m\u001b[0m\u001b[0;34m\u001b[0m\u001b[0m\n\u001b[1;32m      5\u001b[0m     \u001b[0mMYSQL_HOST\u001b[0m \u001b[0;34m=\u001b[0m \u001b[0;32mNone\u001b[0m\u001b[0;34m\u001b[0m\u001b[0;34m\u001b[0m\u001b[0m\n",
      "\u001b[0;32m<ipython-input-21-daff678aad84>\u001b[0m in \u001b[0;36mMySQL\u001b[0;34m()\u001b[0m\n\u001b[1;32m      2\u001b[0m \u001b[0;34m\u001b[0m\u001b[0m\n\u001b[1;32m      3\u001b[0m \u001b[0;32mclass\u001b[0m \u001b[0mMySQL\u001b[0m \u001b[0;34m:\u001b[0m\u001b[0;34m\u001b[0m\u001b[0;34m\u001b[0m\u001b[0m\n\u001b[0;32m----> 4\u001b[0;31m     \u001b[0mKEY\u001b[0m \u001b[0;34m=\u001b[0m \u001b[0mload_key\u001b[0m\u001b[0;34m(\u001b[0m\u001b[0;34m)\u001b[0m\u001b[0;34m\u001b[0m\u001b[0;34m\u001b[0m\u001b[0m\n\u001b[0m\u001b[1;32m      5\u001b[0m     \u001b[0mMYSQL_HOST\u001b[0m \u001b[0;34m=\u001b[0m \u001b[0;32mNone\u001b[0m\u001b[0;34m\u001b[0m\u001b[0;34m\u001b[0m\u001b[0m\n\u001b[1;32m      6\u001b[0m     \u001b[0mMYSQL_CONN\u001b[0m \u001b[0;34m=\u001b[0m \u001b[0;32mNone\u001b[0m\u001b[0;34m\u001b[0m\u001b[0;34m\u001b[0m\u001b[0m\n",
      "\u001b[0;31mNameError\u001b[0m: name 'load_key' is not defined"
     ]
    }
   ],
   "source": [
    "import pymysql\n",
    "\n",
    "class MySQL :\n",
    "    def __init__(self,keyu) :\n",
    "        KEY = self.load_key()\n",
    "        MYSQL_HOST = KEY['host']\n",
    "        MYSQL_CONN = pymysql.connect(\n",
    "            host = MYSQL_HOST,\n",
    "            user=KEY['user'],\n",
    "            passwd=KEY['password'],\n",
    "            db='WhyDoThat_career',\n",
    "            charset='utf8')\n",
    "    \n",
    "    def load_key(self) :\n",
    "        with open('../../keys/localhost_sql_key.json') as key_file :\n",
    "            key = json.load(key_file)\n",
    "        return key\n",
    "    def conn_mysqldb(self) :\n",
    "        if not self.MYSQL_CONN.open :\n",
    "            self.MYSQL_CONN.ping(reconnect=True)\n",
    "        return self.MYSQL_CONN"
   ]
  },
  {
   "cell_type": "code",
   "execution_count": 18,
   "metadata": {},
   "outputs": [],
   "source": [
    "sql = MySQL()"
   ]
  },
  {
   "cell_type": "code",
   "execution_count": 19,
   "metadata": {},
   "outputs": [
    {
     "output_type": "error",
     "ename": "AttributeError",
     "evalue": "'MySQL' object has no attribute 'MYSQL_HOST'",
     "traceback": [
      "\u001b[0;31m---------------------------------------------------------------------------\u001b[0m",
      "\u001b[0;31mAttributeError\u001b[0m                            Traceback (most recent call last)",
      "\u001b[0;32m<ipython-input-19-1d99c71975e1>\u001b[0m in \u001b[0;36m<module>\u001b[0;34m\u001b[0m\n\u001b[0;32m----> 1\u001b[0;31m \u001b[0msql\u001b[0m\u001b[0;34m.\u001b[0m\u001b[0mMYSQL_HOST\u001b[0m\u001b[0;34m\u001b[0m\u001b[0;34m\u001b[0m\u001b[0m\n\u001b[0m",
      "\u001b[0;31mAttributeError\u001b[0m: 'MySQL' object has no attribute 'MYSQL_HOST'"
     ]
    }
   ],
   "source": [
    "sql.MYSQL_HOST"
   ]
  },
  {
   "cell_type": "code",
   "execution_count": 22,
   "metadata": {},
   "outputs": [],
   "source": [
    "data = '웹 또는 앱 프론트 개발 담당자 모집합니다 글로벌 버젼'"
   ]
  },
  {
   "cell_type": "code",
   "execution_count": 24,
   "metadata": {},
   "outputs": [
    {
     "output_type": "stream",
     "name": "stdout",
     "text": [
      "웹 또는 앱 프론트 개발 담당자 모집합니다 글로벌 버젼\n"
     ]
    }
   ],
   "source": [
    "print(data)"
   ]
  },
  {
   "cell_type": "code",
   "execution_count": 30,
   "metadata": {},
   "outputs": [
    {
     "output_type": "execute_result",
     "data": {
      "text/plain": [
       "datetime.datetime(2021, 2, 19, 0, 0)"
      ]
     },
     "metadata": {},
     "execution_count": 30
    }
   ],
   "source": [
    "import datetime\n",
    "\n",
    "datetime.datetime.strptime('2021-02-19','%Y-%m-%d')"
   ]
  },
  {
   "cell_type": "code",
   "execution_count": 31,
   "metadata": {},
   "outputs": [],
   "source": [
    "data = {'company_address': '대한민국 서울특별시 서초구 방배동 797-13 5층',\n",
    " 'company_name': '트릿지',\n",
    " 'career': ['2', '10'],\n",
    " 'deadline': '2021-02-19',\n",
    " 'href': 'https://www.rocketpunch.com/jobs/87095/Software-Engineer-Frontend',\n",
    " 'logo_image': 'https://image.rocketpunch.com/company/4921/tridge_logo_1604630821.jpg?s=100x100&t=inside',\n",
    " 'main_text': '<section class=\"row\">\\n'\n",
    "                       '        <h4 class=\"ui job header\"><a href=\"#duty\">주요 '\n",
    "                       '업무</a><a class=\"anchor\" name=\"duty\"></a></h4>\\n'\n",
    "                       '        <div class=\"duty break\">            <span '\n",
    "                       'class=\"short-text\">트릿지는 높은 수준의 기술력과 광대한 글로벌 인력 네트워크를 '\n",
    "                       '바탕으로, 2000조원 규모의 전세계 식품/농산물 무역 시장에 빠른 속도로 침투하고 있는 국내 '\n",
    "                       '유일무이한 글로벌 B2B 플랫폼 기업입니다. “국제 무역의 Google”로서 시장의 불균형과 정보 '\n",
    "                       '비대칭을 완화, 보다 효율적이고 안정적인 시장의 평형상태(equilibrium)를 달성하고, 그 '\n",
    "                       '…</span>\\n'\n",
    "                       '            <a class=\"see-more-text primary link\">더 '\n",
    "                       '보기</a>\\n'\n",
    "                       '            <span class=\"hide full-text\">트릿지는 높은 수준의 '\n",
    "                       '기술력과 광대한 글로벌 인력 네트워크를 바탕으로, 2000조원 규모의 전세계 식품/농산물 무역 '\n",
    "                       '시장에 빠른 속도로 침투하고 있는 국내 유일무이한 글로벌 B2B 플랫폼 기업입니다. “국제 무역의 '\n",
    "                       'Google”로서 시장의 불균형과 정보 비대칭을 완화, 보다 효율적이고 안정적인 시장의 '\n",
    "                       '평형상태(equilibrium)를 달성하고, 그 혜택을 최대한 많은 사람들과 나누는 것을 목표로 '\n",
    "                       '하고 있습니다. 이러한 기업 비전의 차별성과 성장 잠재력을 인정받아 미국 NYC의 B2B 분야 '\n",
    "                       '전문 투자사인 Activant Capital을 비롯, Softbank Ventures, '\n",
    "                       'Forest Partners 등의 유수의 국내외 VC로부터 약 225억원의 투자를 '\n",
    "                       '유치하였습니다.<br><br>“전세계 모든 B2B 거래를 중개한다 (Transaction '\n",
    "                       'Bridge)”는 트릿지의 미션은, 아직 그 전례가 없고 대상으로 하는 문제 또한 크고 '\n",
    "                       '복잡합니다. 저희는 이 “최대”의 문제를 “최고”의 팀과 함께 해결하고자 하는, 뜨거운 마음과 '\n",
    "                       '도전정신을 가진 동료를 갈망합니다. 트릿지의 구성원들에게 뛰어난 구조적 사고능력, 높은 수준의 '\n",
    "                       '주도성과 주인의식, 효율성과 효과성 사이의 센스 있는 균형감각 등이 모두 필수적이지만, 이는 그 '\n",
    "                       '자체가 목표라기보다는 어려운 문제를 해결하는 과정에서 발현/달성되는 특성들이라 믿습니다. 그 '\n",
    "                       '여정이 거칠고 도전적인 만큼, 트릿지는 인재에 대한 업계 최고 대우를 '\n",
    "                       '자부합니다.<br><br>--<br><br>트릿지 Engineering은 빠른 속도감과 유용성 '\n",
    "                       '(practicality) 을 우선시하는 작은 팀으로, “디지털 미개척지”인 B2B 거래시장에서 '\n",
    "                       '기술 적용의 유효성과 임팩트를 최대화하기 위해 노력하고 있습니다.<br><br>- Global '\n",
    "                       'Standard: 전세계 다양한 국가와 문화권을 대상으로 하는만큼 글로벌 기준에 부합하는 기술력과 '\n",
    "                       '제품 완성도를 추구합니다. <br>- Data Engineering: 도매 가격, 수출입 통계, '\n",
    "                       '현지 뉴스 등 다양한 시장 정보를 통계 기반의 AI/ML 기술들을 활용, 효과적으로 분류하여 높은 '\n",
    "                       '정교함의 “Intelligence UX”를 구현합니다.<br>- Communication '\n",
    "                       'Integration: 모든 B2B 무역 커뮤니케이션을 통합하는 “Tridge Messenger '\n",
    "                       'App”을 개발하여 기업 구매/판매 활동의 전반적 생산성을 혁신합니다.<br>- Top-notch '\n",
    "                       'SEO: 기술과 데이터의 절묘한 최적화를 바탕으로 국내 최대 규모의 SEO를 구현하고 이를 통해 '\n",
    "                       '조직의 높은 비용 효율성에 기여합니다.<br>- API Ecosystem: 정보/물류/결제 등 '\n",
    "                       '다양한 비즈니스 API를 연동하고, 또 제공함으로써, 기술의 효용을 높이고 관련 생태계를 '\n",
    "                       '구축합니다.</span>\\n'\n",
    "                       '</div>\\n'\n",
    "                       '      </section><section class=\"row\">\\n'\n",
    "                       '        <h4 class=\"ui job header\"><a '\n",
    "                       'href=\"#content\">채용 상세</a><a class=\"anchor\" '\n",
    "                       'name=\"content\"></a></h4>\\n'\n",
    "                       '        <div class=\"content break\">            <span '\n",
    "                       'class=\"short-text\">트릿지의 Frontend Engineer는 UX의 “최종 '\n",
    "                       '완성자”로서, 쾌적한 사용자 인터페이스와 데이터 시각화를 통해 전세계 25만명 트릿지 기업 '\n",
    "                       '사용자들의 최고의 웹 &amp; 모바일 고객 경험을 구현합니다. 다양한 시장참여자들의 '\n",
    "                       '(buyer, supplier, agent 등) 정교한 접근성 제어를 위해 트릿지는 '\n",
    "                       'GraphQL을 공격적으로 활용하…</span>\\n'\n",
    "                       '            <a class=\"see-more-text primary link\">더 '\n",
    "                       '보기</a>\\n'\n",
    "                       '            <span class=\"hide full-text\">트릿지의 Frontend '\n",
    "                       'Engineer는 UX의 “최종 완성자”로서, 쾌적한 사용자 인터페이스와 데이터 시각화를 통해 '\n",
    "                       '전세계 25만명 트릿지 기업 사용자들의 최고의 웹 &amp; 모바일 고객 경험을 구현합니다. '\n",
    "                       '다양한 시장참여자들의 (buyer, supplier, agent 등) 정교한 접근성 제어를 위해 '\n",
    "                       '트릿지는 GraphQL을 공격적으로 활용하고 있으며, 이로 인해 대부분의 비즈니스 로직이 '\n",
    "                       '클라이언트 단에서 구현되는 만큼 그 역할의 중요성이 더욱 강조됩니다. <br><br>이런 역할을 '\n",
    "                       '수행합니다:<br><br>- React, GraphQL, 그리고 styled-components를 '\n",
    "                       '활용하여 추상화 수준과 재사용성이 높은 모듈화된 UI를 구현합니다.<br>- D3.js 기반으로 '\n",
    "                       '자체 개발한 데이터 시각화 UI를 지속적으로 강화하고, 해당 라이브러리의 오픈소스화에 '\n",
    "                       '기여합니다.<br>- Isomorphic React 기반의 SSR을 (Server-side '\n",
    "                       'Rendering) 통해 빠른 UI 반응성을 구현하고 SEO를 강화합니다.<br>- 타협하지 않는 '\n",
    "                       '코드 리뷰와 치열한 기술 논의를 통해 무결점의 코드 품질을 유지합니다 (또는 그러기 위해 '\n",
    "                       '노력합니다).<br>- PM, 디자이너, data scientist 등 유관 부서 동료들과 '\n",
    "                       '스쿼드를 (squad) 구성하여 긴밀히 협업하고, 초기 기획을 포함한 전반적 개발 프로세스에 '\n",
    "                       '참여하여 제품 기능의 높은 완성도와 신속한 배포에 기여합니다.<br><br>이런 분을 '\n",
    "                       '찾습니다:<br><br>- 2년 이상의 개발 경력이 있으신 분, 또는 컴퓨터 공학 연관 전공 '\n",
    "                       '학위를 소지하신 분<br>- Frontend tech stack에 대한 높은 기술적 이해도를 '\n",
    "                       '가지신 분 (Javascript, HTML, CSS 등)<br>- 수동적 업무 수행보다는 항상 '\n",
    "                       '“왜?”에 대해 고민하고, 더 나은 “코드 추상화”를 위해 끊임없이 노력하시는 분<br>- '\n",
    "                       '소프트웨어를 통한 시장 혁신에 강한 믿음을 가지신 분<br>- 작은 디테일에 집착하시는 '\n",
    "                       '분<br><br>이런 분이면 더 좋습니다:<br><br>- React, GraphQL, 또는 '\n",
    "                       'styled-components를 활용해 본 경력<br>- Selenium, Puppeteer 등 '\n",
    "                       'UI 테스트 자동화에 대한 경험<br>- React-based UI의 성능 최적화 경험<br>- '\n",
    "                       '다양한 문화권 출신의 사람들과의 업무 협업을 즐기시는 분 (트릿지 Engineering 팀의 ⅓은 '\n",
    "                       '외국인으로 구성되어 있습니다)<br>- 영어 커뮤니케이션이 자연스러우신 '\n",
    "                       '분<br><br>--<br><br>트릿지는 빠르게 성장하고 있습니다:<br><br>- '\n",
    "                       'Data-driven intelligence: 10억개 이상의 시장 가격 정보 및 100억여개의 '\n",
    "                       '무역 데이터 접점 관리<br>- Global expansion: 40개 국가에서 근무 중인 '\n",
    "                       '100명 규모의 팀을 연내 150~200명으로 확장 계획 및 in-house 관리 솔루션 '\n",
    "                       '구축<br>- AI-backed operation: 자동화된 유효 컨텐츠 선별 및 속성 정보 '\n",
    "                       '태깅, 연관 시장/상품 데이터 추천 등 통계 기반 machine learning의 공격적 '\n",
    "                       '활용<br>- Trusted online reputation: Google SEO를 통한 다국적 '\n",
    "                       '기업, 컨설팅, 유수 대학 등 100만 이상의 top-tier business traffic '\n",
    "                       '유입<br>- Cultural diversity: 다양한 국적/배경의 사람들과 효과적으로 '\n",
    "                       '협업하면서 빠른 속도로 변화하는 수평적인 조직 문화 지향<br>- Trade '\n",
    "                       'digitalization: B2B 글로벌 무역시장의 디지털화 선도<br><br>트릿지는 최적의 '\n",
    "                       '업무 환경을 제공하고자 노력합니다:<br><br>- 다른 복지 항목들을 무색하게 만드는, 업계 '\n",
    "                       '최고 수준의 공격적인 승진 및 보상 제도<br>- 팀런치, 간식 및 석식 제공<br>- 컨퍼런스 '\n",
    "                       '참가 및 업무 관련 교육비 지원<br>- 연례 종합건강검진 지원<br>- 넓고 쾌적한 사무공간 '\n",
    "                       '(층고 4.2m), 카페테리아, 라운지 및 휴게실 (침대/안마의자) 보유 <br>- 옥상 정원 및 '\n",
    "                       '농구장 보유 (사내농구리그 진행)<br><br>==<br><br>Using '\n",
    "                       'state-of-the-art technology and our extensive in-house '\n",
    "                       'global human network, Tridge penetrates into the core '\n",
    "                       'of the $2 trillion global market in the Food and '\n",
    "                       'Agriculture industry. As a leading global B2B '\n",
    "                       'platform, our goal is to solve information asymmetry, '\n",
    "                       'a common challenge in the Trade Industry, and '\n",
    "                       'therefore achieve market equilibrium. We dare to '\n",
    "                       'imagine becoming the “Google” of international trade, '\n",
    "                       'where everyone will have the opportunity to reap the '\n",
    "                       'benefits of global trade.<br><br>“Tridge” is an '\n",
    "                       'abbreviation for “Transaction Bridge,” which stems '\n",
    "                       'from our mission to “bridge the gap” in today’s trade '\n",
    "                       'industry. The path to achieving such a goal is '\n",
    "                       'extremely tough and complex, yet so rewarding in many '\n",
    "                       'aspects. As we expand our service and increase '\n",
    "                       'responsibilities, we welcome great additions to our '\n",
    "                       'Product Team. We are looking for talented and '\n",
    "                       'passionate individuals who are up to such commitment '\n",
    "                       'and willing to achieve this goal with us.<br><br>We '\n",
    "                       'expect our team members to be enthusiastic, '\n",
    "                       'goal-oriented, and ready for any challenges ahead. '\n",
    "                       \"It's essential for every member of the team to have \"\n",
    "                       'ownership of their work as well as the ability to '\n",
    "                       'balance efficiency and effectiveness. As challenging '\n",
    "                       'as the journey may be, Tridge prides itself on being '\n",
    "                       'able to provide the best and most flexible working '\n",
    "                       'environment for our talents.<br><br>--<br><br>Tridge '\n",
    "                       'Engineering Team focuses on agility and practicality. '\n",
    "                       'The extremely efficient yet small team is striving to '\n",
    "                       'maximize the impact technology can bring to the '\n",
    "                       '\"unexplored\" global B2B food &amp; agriculture '\n",
    "                       'market.<br><br>- Global Standard: Facing customers '\n",
    "                       'across the globe, we pursue outstanding product '\n",
    "                       'quality with highest engineering standards.<br><br>- '\n",
    "                       'Data Engineering: Combining AI / ML technologies with '\n",
    "                       'multifaceted food &amp; agriculture market data: '\n",
    "                       'wholesale prices, import/export statistics, and local '\n",
    "                       'news, we realize sophisticated \"Intelligence '\n",
    "                       'UX\".<br><br>- Communication Integration: With \"Tridge '\n",
    "                       'Messenger App\" integrating all B2B trade '\n",
    "                       'communication, we help customers boost their overall '\n",
    "                       'productivity regarding buying and selling '\n",
    "                       'activities.<br><br>- Top-notch SEO: We contribute to '\n",
    "                       'high cost-efficiency of the organization by optimizing '\n",
    "                       'SEO.<br><br>- API Ecosystem: Connecting and providing '\n",
    "                       'APIs in different business areas: information, '\n",
    "                       'logistics, and payments etc, we improve the utility of '\n",
    "                       'technology and build the relevant '\n",
    "                       'ecosystem.<br><br>Frontend SW Engineers in Tridge '\n",
    "                       'build a superlative user experience. Joining the team, '\n",
    "                       'you will work on implementing clean UI and '\n",
    "                       'state-of-the-art data visualization through which we '\n",
    "                       'provide the best web &amp; mobile user experience for '\n",
    "                       '25,000 enterprise users. We are looking for applicants '\n",
    "                       'with strong engineering capability, since most of the '\n",
    "                       'business logic is now being implemented in the client '\n",
    "                       'side using GraphQL.<br><br>Responsibilities:<br><br>- '\n",
    "                       'You will implement reusable and modularized UI '\n",
    "                       'components (React, GraphQL and '\n",
    "                       'styled-components).<br>- You will enhance in-house '\n",
    "                       'data visualization libraries based on D3.js and '\n",
    "                       'contribute to releasing it under an open source '\n",
    "                       'license.<br>- You will improve reactivity through '\n",
    "                       'server-side rendering based on Isomorphic React and '\n",
    "                       'enhance SEO.<br>- You will write and maintain high '\n",
    "                       'quality code through consistent code reviews and '\n",
    "                       'in-depth technical discussion<br>- Working '\n",
    "                       'collaboratively with product managers, designers and '\n",
    "                       'data scientists, you will contribute to improving the '\n",
    "                       'quality of the product from the planning to the '\n",
    "                       'deployment phase.<br><br>Minimum '\n",
    "                       'Qualifications:<br><br>- 2+ years of professional '\n",
    "                       \"software development experience or bachelor's degree \"\n",
    "                       'in Computer Science or related technical field<br>- '\n",
    "                       'Deep knowledge of frontend web stack (JavaScript, '\n",
    "                       'HTML, and CSS)<br>- Love of asking why<br>- Passion to '\n",
    "                       'drive market innovation through software '\n",
    "                       'engineering<br>- Obsessed with small details that make '\n",
    "                       'difference<br><br>Preferred Qualifications:<br><br>- '\n",
    "                       'Experience in React, GraphQL or styled-components<br>- '\n",
    "                       'Experience in UI test automation using tools like '\n",
    "                       'Selenium, Puppeteer<br>- Experience in optimizing '\n",
    "                       'React-based UI<br>- Enjoying working with colleagues '\n",
    "                       'from different countries (A third of the Tridge '\n",
    "                       'Engineering Team are foreigners)<br>- Ability to speak '\n",
    "                       'and write in English fluently<br><br>--<br><br>A Peek '\n",
    "                       'Into the Backbones of Tridge:<br><br>- Data-driven '\n",
    "                       'intelligence: Managing more than 10 billion market '\n",
    "                       'price points and 100 billion Export data points. '\n",
    "                       'Providing smart market analysis of these data points '\n",
    "                       'so that users don’t drown in the numbers.<br><br>- '\n",
    "                       'Global expansion: 100 team players working in 40 '\n",
    "                       'different countries. We expect to grow to 150-200 '\n",
    "                       'partners by the end of the year, and are currently '\n",
    "                       'building an in-house management solution to fully '\n",
    "                       'support our global operation.<br><br>- AI-backed '\n",
    "                       'operation: Auto-selection process to detect meaningful '\n",
    "                       'contents and systematically tag attributes. Use of '\n",
    "                       'statistical machine learning to tap into the expansive '\n",
    "                       'pool of related market information and product '\n",
    "                       'database.<br><br>- Trusted online reputation: High '\n",
    "                       'traffic inflow of Multinational Corporations, Global '\n",
    "                       'Consulting Agencies, prestigious universities, and a '\n",
    "                       'million other top-tier businesses through Google '\n",
    "                       'search engine optimization.<br><br>- Cultural '\n",
    "                       'diversity: Working with smart, unique, and goal driven '\n",
    "                       'individuals from diverse backgrounds to quickly adapt '\n",
    "                       'to the fast evolving nature of the field and implement '\n",
    "                       'a horizontal corporate culture.<br><br>- Trade '\n",
    "                       'digitalization: Pioneers of the Global B2B Trade '\n",
    "                       'Market Digitalization<br><br>Benefits &amp; '\n",
    "                       'Perks:<br><br>- Among the highest benefit &amp; rapid '\n",
    "                       'promotion systems in the field.<br>- Team Lunch, '\n",
    "                       'Kitchen with Grab &amp; Go Snacks and Coffee, Free '\n",
    "                       'Dinner<br>- Support work related conference &amp; '\n",
    "                       'education<br>- Support annual health checkups<br>- '\n",
    "                       'Spacious and pleasant working environment (Ceiling '\n",
    "                       'Height 4.5m)<br>- Staff lounge equipped with sofa, '\n",
    "                       'bed, and massage chair for comfort<br>- Beautiful Roof '\n",
    "                       'Garden and Basketball Court (with Corporate Teams '\n",
    "                       '&amp; Leagues!)</span>\\n'\n",
    "                       '</div></section><section class=\"row\">\\n'\n",
    "                       '        <h4 class=\"ui job header\"><a '\n",
    "                       'href=\"#benefits\">복지 혜택</a><a class=\"anchor\" '\n",
    "                       'name=\"benefits\"></a></h4>\\n'\n",
    "                       '<div class=\"ui segment\">\\n'\n",
    "                       '  <div class=\"ui divided company info items\"><div '\n",
    "                       'class=\"item\">\\n'\n",
    "                       '          <div class=\"title\"><i class=\"ic-monitor_line '\n",
    "                       'icon\"></i><span>개인 장비</span>\\n'\n",
    "                       '          </div>\\n'\n",
    "                       '          <div class=\"content\"><span>듀얼 모니터</span>, '\n",
    "                       '<span>iMac 27\"</span>, <span>맥북 프로 15\"</span></div>\\n'\n",
    "                       '        </div><div class=\"item\">\\n'\n",
    "                       '          <div class=\"title\"><i class=\"ic-present_line '\n",
    "                       'icon\"></i><span>자기 계발</span>\\n'\n",
    "                       '          </div>\\n'\n",
    "                       '          <div class=\"content\"><span>스터디 모임 '\n",
    "                       '지원</span></div>\\n'\n",
    "                       '        </div><div class=\"item\">\\n'\n",
    "                       '          <div class=\"title\"><i class=\"ic-train_line '\n",
    "                       'icon\"></i><span>통근, 교통</span>\\n'\n",
    "                       '          </div>\\n'\n",
    "                       '          <div class=\"content\"><span>유류비 '\n",
    "                       '지원</span></div>\\n'\n",
    "                       '        </div><div class=\"item\">\\n'\n",
    "                       '          <div class=\"title\"><i class=\"ic-coffee_line '\n",
    "                       'icon\"></i><span>식사, 간식</span>\\n'\n",
    "                       '          </div>\\n'\n",
    "                       '          <div class=\"content\"><span>고급 커피 제공</span>, '\n",
    "                       '<span>간식 무한 제공</span>, <span>석식 제공</span></div>\\n'\n",
    "                       '        </div><div class=\"item\">\\n'\n",
    "                       '          <div class=\"title\"><i '\n",
    "                       'class=\"ic-calendar_line icon\"></i><span>연차, 휴가</span>\\n'\n",
    "                       '          </div>\\n'\n",
    "                       '          <div class=\"content\"><span>월차</span></div>\\n'\n",
    "                       '        </div><div class=\"item\">\\n'\n",
    "                       '          <div class=\"title\"><i class=\"ic-medical_line '\n",
    "                       'icon\"></i><span>보험, 의료</span>\\n'\n",
    "                       '          </div>\\n'\n",
    "                       '          <div class=\"content\"><span>종합 검진 제공</span>, '\n",
    "                       '<span>4대 보험</span></div>\\n'\n",
    "                       '        </div></div>\\n'\n",
    "                       '</div>      </section>',\n",
    " 'newbie': False,\n",
    " 'salary': ['4000', '10000'],\n",
    " 'sector': 'Software Engineer - Frontend',\n",
    " 'skill_tag': ['React',\n",
    "                        'Node.js',\n",
    "                        'JavaScript',\n",
    "                        'Front-end',\n",
    "                        'CSS3',\n",
    "                        'CSS',\n",
    "                        'D3.js',\n",
    "                        'ssr',\n",
    "                        'Styled-components',\n",
    "                        'graphql',\n",
    "                        'Amazon AWS'],\n",
    " 'title': 'Software Engineer - Frontend',\n",
    " 'platform': 'roketpunch'}"
   ]
  },
  {
   "cell_type": "code",
   "execution_count": 32,
   "metadata": {},
   "outputs": [
    {
     "output_type": "execute_result",
     "data": {
      "text/plain": [
       "<function dict.items>"
      ]
     },
     "metadata": {},
     "execution_count": 32
    }
   ],
   "source": [
    "dic.items"
   ]
  },
  {
   "cell_type": "code",
   "execution_count": null,
   "metadata": {},
   "outputs": [],
   "source": []
  }
 ]
}